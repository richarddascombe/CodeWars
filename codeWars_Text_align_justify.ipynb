{
  "nbformat": 4,
  "nbformat_minor": 0,
  "metadata": {
    "colab": {
      "provenance": [],
      "authorship_tag": "ABX9TyPuuneqba+T+iq5m3kEmFnt",
      "include_colab_link": true
    },
    "kernelspec": {
      "name": "python3",
      "display_name": "Python 3"
    },
    "language_info": {
      "name": "python"
    }
  },
  "cells": [
    {
      "cell_type": "markdown",
      "metadata": {
        "id": "view-in-github",
        "colab_type": "text"
      },
      "source": [
        "<a href=\"https://colab.research.google.com/github/richarddascombe/CodeWars/blob/main/codeWars_Text_align_justify.ipynb\" target=\"_parent\"><img src=\"https://colab.research.google.com/assets/colab-badge.svg\" alt=\"Open In Colab\"/></a>"
      ]
    },
    {
      "cell_type": "markdown",
      "source": [
        "https://www.codewars.com/kata/537e18b6147aa838f600001b"
      ],
      "metadata": {
        "id": "sAEBVycA78Gw"
      }
    },
    {
      "cell_type": "code",
      "source": [
        "text1 = \"\"\"\\\n",
        "Lorem ipsum  dolor  sit amet, consectetur  adipiscing  elit. Vestibulum sagittis   dolor mauris, at  elementum  ligula\n",
        "tempor  eget.  In quis rhoncus nunc, at  aliquet orci. Fusce at   dolor sit amet  felis suscipit  tristique.  Nam  a\n",
        "imperdiet tellus.  Nulla  eu vestibulum    urna. Vivamus tincidunt suscipit enim, nec ultrices  nisi  volutpatata  ac.\"\"\"\n",
        "text2=\"123 45 6\"\n",
        "text3=\"Tiny example\""
      ],
      "metadata": {
        "id": "SAoyno6O8scO"
      },
      "execution_count": null,
      "outputs": []
    },
    {
      "cell_type": "code",
      "execution_count": null,
      "metadata": {
        "id": "zES0C8lM74PF"
      },
      "outputs": [],
      "source": [
        "def justify(text, width):\n",
        "  txt=text.split()\n",
        "  currentLine=[]\n",
        "  outLst=[]\n",
        "\n",
        "  # word by word\n",
        "  for t in txt:\n",
        "    if len(t)>width:\n",
        "      return \"ERROR\"\n",
        "    # if there's room in the current line then add the word\n",
        "    if len(\" \".join(currentLine))+len(t)+1<=width:\n",
        "      currentLine.append(t)\n",
        "    else:\n",
        "      # if no room in current line then bank the line in the output list, add \\n and start a new line\n",
        "      outLst.append(\" \".join(pad(currentLine,width)))\n",
        "      currentLine=[t]\n",
        "  # append completed line to the output list\n",
        "  outLst.append(\" \".join(currentLine))\n",
        "  # convert the list of lines converted into an output string\n",
        "  return \"\\n\".join(outLst)\n",
        "\n",
        "def pad(wordList,width):\n",
        "  wordcount=len(wordList)\n",
        "  shortfall = width - len(\" \".join(wordList))\n",
        "  if shortfall==0 or wordcount==1:\n",
        "    # no padding needed return the unchanged list of words\n",
        "    return(wordList)\n",
        "\n",
        "  # else work out what padding is needed per word (no padding on last word though)\n",
        "  for i,word in enumerate(wordList[:-1]):\n",
        "    # number of spaces to add to words is a simple formula...\n",
        "    wordList[i]+=' ' * int((shortfall+wordcount-i-2)//(wordcount-1))\n",
        "\n",
        "  return(wordList)\n",
        "\n",
        "\n"
      ]
    },
    {
      "cell_type": "code",
      "source": [
        "print(justify(text1,20))"
      ],
      "metadata": {
        "colab": {
          "base_uri": "https://localhost:8080/"
        },
        "id": "ZC12T3h18Lao",
        "outputId": "3a9d5db4-a201-4d0a-8067-717eba1f93c3"
      },
      "execution_count": null,
      "outputs": [
        {
          "output_type": "stream",
          "name": "stdout",
          "text": [
            "Lorem   ipsum  dolor\n",
            "sit            amet,\n",
            "consectetur\n",
            "adipiscing     elit.\n",
            "Vestibulum  sagittis\n",
            "dolor   mauris,   at\n",
            "elementum     ligula\n",
            "tempor eget. In quis\n",
            "rhoncus   nunc,   at\n",
            "aliquet  orci. Fusce\n",
            "at  dolor  sit  amet\n",
            "felis       suscipit\n",
            "tristique.   Nam   a\n",
            "imperdiet    tellus.\n",
            "Nulla  eu vestibulum\n",
            "urna.        Vivamus\n",
            "tincidunt   suscipit\n",
            "enim,  nec  ultrices\n",
            "nisi volutpatata ac.\n"
          ]
        }
      ]
    }
  ]
}