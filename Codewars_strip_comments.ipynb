{
  "nbformat": 4,
  "nbformat_minor": 0,
  "metadata": {
    "colab": {
      "provenance": [],
      "authorship_tag": "ABX9TyO5y9uTYV2v6CQr+JZBkmEo",
      "include_colab_link": true
    },
    "kernelspec": {
      "name": "python3",
      "display_name": "Python 3"
    },
    "language_info": {
      "name": "python"
    }
  },
  "cells": [
    {
      "cell_type": "markdown",
      "metadata": {
        "id": "view-in-github",
        "colab_type": "text"
      },
      "source": [
        "<a href=\"https://colab.research.google.com/github/richarddascombe/CodeWars/blob/main/Codewars_strip_comments.ipynb\" target=\"_parent\"><img src=\"https://colab.research.google.com/assets/colab-badge.svg\" alt=\"Open In Colab\"/></a>"
      ]
    },
    {
      "cell_type": "markdown",
      "source": [
        "###Codewars - strip comments\n",
        "https://www.codewars.com/kata/51c8e37cee245da6b40000bd/train/python"
      ],
      "metadata": {
        "id": "vUPTquEhyinS"
      }
    },
    {
      "cell_type": "code",
      "execution_count": 32,
      "metadata": {
        "id": "fcSXr39MySyD"
      },
      "outputs": [],
      "source": [
        "def strip_comments(strng, markers):\n",
        "    # split the input into lines\n",
        "    lines=strng.split('\\n')\n",
        "    ans=''\n",
        "    # for each line, we need to trim it if any comment marker appears in it\n",
        "    for i,line in enumerate(lines):\n",
        "        #check each marker in turn to see if line needs trimming\n",
        "        for marker in markers:\n",
        "            if marker in line:\n",
        "                line=line[:line.index(marker)]\n",
        "                # we also need to trim any spaces that preceded the marker\n",
        "                line=line.rstrip()\n",
        "            # if not the last line reinstate the '\\n\\\n",
        "            else:\n",
        "                # if the marker is not in the line then no need to do anything\n",
        "                pass\n",
        "            #print('***',line)\n",
        "        ans+=line\n",
        "        if i!=len(lines)-1:\n",
        "            ans+='\\n'\n",
        "        # reassemble the new string\n",
        "    return(ans)\n"
      ]
    },
    {
      "cell_type": "code",
      "source": [
        "t1='apples, pears # and bananas\\ngrapes\\nbananas !apples' # should give 'apples, pears\\ngrapes\\nbananas'\n",
        "t2='a #b\\nc\\nd $e f g' # should be 'a\\nc\\nd'\n",
        "t3=' a #b\\nc\\nd $e f g' # should be ' a\\nc\\nd'\n",
        "p1=['#', '!']\n",
        "p2=['#', '$']\n",
        "p3=['#', '$']\n",
        "ans = strip_comments(t3,p3)\n",
        "print('answer is',repr(ans))\n"
      ],
      "metadata": {
        "colab": {
          "base_uri": "https://localhost:8080/"
        },
        "id": "BMpMiJ10yv-i",
        "outputId": "bea744d0-a595-4314-91df-7eea2e0300c9"
      },
      "execution_count": 35,
      "outputs": [
        {
          "output_type": "stream",
          "name": "stdout",
          "text": [
            "***  a\n",
            "***  a\n",
            "*** c\n",
            "*** c\n",
            "*** d $e f g\n",
            "*** d\n",
            "answer is ' a\\nc\\nd'\n"
          ]
        }
      ]
    }
  ]
}